{
 "cells": [
  {
   "cell_type": "markdown",
   "metadata": {},
   "source": [
    "# MOVIES DATA ANALYSIS\n",
    "\n",
    "Details:\n",
    "* Student name: Kelvin Kitonga Nzomo\n",
    "* Student pace:  full time\n",
    "* Scheduled project review date/time: 23/05/2022 10:00 AM\n",
    "* Instructor name: Antonny Muiko\n",
    "\n"
   ]
  },
  {
   "cell_type": "markdown",
   "metadata": {},
   "source": [
    "# 1.0 Business Problem\n",
    "\n",
    "Microsoft sees all the big companies creating original video content and they want to get in on the fun. \n",
    "\n",
    "They have decided to create a new movie studio, but they don’t know anything about creating movies. \n",
    "\n",
    "You are charged with exploring what types of films are currently doing the best at the box office. \n",
    "\n",
    "You must then translate those findings into actionable insights that the head of Microsoft's new movie studio can use to help decide what type of films to create.\n"
   ]
  },
  {
   "cell_type": "markdown",
   "metadata": {},
   "source": [
    "## 1.1 Objectives:\n",
    "    1. Determine the most popular genre of films\n",
    "    2. Determine the most profitable genres of films\n",
    "    3. Establish the relationship between movie ratings and profitability\n",
    "    4. What is the relationship between domestic and foreign ratings of a movie and its ratings.\n",
    "    5. Which studio was most profitable and what genre was produced"
   ]
  },
  {
   "cell_type": "code",
   "execution_count": 389,
   "metadata": {},
   "outputs": [],
   "source": [
    "#start with importation of python libraries that will be needed during data cleaning, data analysis and data visualizatio\n",
    "\n",
    "import pandas as pd\n",
    "import seaborn as sns\n",
    "import numpy as np\n",
    "import matplotlib.pyplot as plt\n",
    "%matplotlib inline\n",
    "\n",
    "\n",
    "\n",
    "\n"
   ]
  },
  {
   "cell_type": "markdown",
   "metadata": {},
   "source": [
    "## 2.0 DATA ANALYSIS ROAD MAP\n",
    "Checklist that is followed for this analysis:\n",
    "\n",
    "        1. Data exploration\n",
    "        2. Data Cleaning\n",
    "        3. Data aggregation\n",
    "        4. Data Visualization\n",
    "        5. Conclusion\n",
    "        6. Recommendations"
   ]
  },
  {
   "cell_type": "code",
   "execution_count": 390,
   "metadata": {},
   "outputs": [],
   "source": [
    "# load the datasets that will be need in this analysis. I shall use aliasing to faciliate easier analyses.\n",
    "# the three data sets that shall be used include: bom.movie_gross.csv, title.basics.csv and title.ratings.csv\n",
    "# it was observed that all the three data files share common columns which can be used in joining them.\n",
    "\n",
    "#load the data in data frames:\n",
    "\n",
    "movie_gross_df = pd.read_csv('datasets/bom.movie_gross.csv')\n",
    "\n",
    "title_basics_df = pd.read_csv('datasets/title.basics.csv')\n",
    "\n",
    "title_ratings_df = pd.read_csv('datasets/title.ratings.csv')\n"
   ]
  },
  {
   "cell_type": "markdown",
   "metadata": {},
   "source": [
    "# 2.1 EXPLORATION OF THE DATA SETS\n",
    "\n",
    "\n",
    "The data shall be explored by determining the below so that we can have a better understanding of our data:\n",
    "1. The first two rows of the data frame\n",
    "2. The shape of the dataframe\n",
    "3. The data types of the dataframes\n"
   ]
  },
  {
   "cell_type": "markdown",
   "metadata": {},
   "source": [
    "### i. Explore Movie Gross Dataset"
   ]
  },
  {
   "cell_type": "code",
   "execution_count": 391,
   "metadata": {},
   "outputs": [
    {
     "data": {
      "text/html": [
       "<div>\n",
       "<style scoped>\n",
       "    .dataframe tbody tr th:only-of-type {\n",
       "        vertical-align: middle;\n",
       "    }\n",
       "\n",
       "    .dataframe tbody tr th {\n",
       "        vertical-align: top;\n",
       "    }\n",
       "\n",
       "    .dataframe thead th {\n",
       "        text-align: right;\n",
       "    }\n",
       "</style>\n",
       "<table border=\"1\" class=\"dataframe\">\n",
       "  <thead>\n",
       "    <tr style=\"text-align: right;\">\n",
       "      <th></th>\n",
       "      <th>title</th>\n",
       "      <th>studio</th>\n",
       "      <th>domestic_gross</th>\n",
       "      <th>foreign_gross</th>\n",
       "      <th>year</th>\n",
       "    </tr>\n",
       "  </thead>\n",
       "  <tbody>\n",
       "    <tr>\n",
       "      <th>0</th>\n",
       "      <td>Toy Story 3</td>\n",
       "      <td>BV</td>\n",
       "      <td>415000000.0</td>\n",
       "      <td>652000000</td>\n",
       "      <td>2010</td>\n",
       "    </tr>\n",
       "    <tr>\n",
       "      <th>1</th>\n",
       "      <td>Alice in Wonderland (2010)</td>\n",
       "      <td>BV</td>\n",
       "      <td>334200000.0</td>\n",
       "      <td>691300000</td>\n",
       "      <td>2010</td>\n",
       "    </tr>\n",
       "    <tr>\n",
       "      <th>2</th>\n",
       "      <td>Harry Potter and the Deathly Hallows Part 1</td>\n",
       "      <td>WB</td>\n",
       "      <td>296000000.0</td>\n",
       "      <td>664300000</td>\n",
       "      <td>2010</td>\n",
       "    </tr>\n",
       "    <tr>\n",
       "      <th>3</th>\n",
       "      <td>Inception</td>\n",
       "      <td>WB</td>\n",
       "      <td>292600000.0</td>\n",
       "      <td>535700000</td>\n",
       "      <td>2010</td>\n",
       "    </tr>\n",
       "    <tr>\n",
       "      <th>4</th>\n",
       "      <td>Shrek Forever After</td>\n",
       "      <td>P/DW</td>\n",
       "      <td>238700000.0</td>\n",
       "      <td>513900000</td>\n",
       "      <td>2010</td>\n",
       "    </tr>\n",
       "  </tbody>\n",
       "</table>\n",
       "</div>"
      ],
      "text/plain": [
       "                                         title studio  domestic_gross  \\\n",
       "0                                  Toy Story 3     BV     415000000.0   \n",
       "1                   Alice in Wonderland (2010)     BV     334200000.0   \n",
       "2  Harry Potter and the Deathly Hallows Part 1     WB     296000000.0   \n",
       "3                                    Inception     WB     292600000.0   \n",
       "4                          Shrek Forever After   P/DW     238700000.0   \n",
       "\n",
       "  foreign_gross  year  \n",
       "0     652000000  2010  \n",
       "1     691300000  2010  \n",
       "2     664300000  2010  \n",
       "3     535700000  2010  \n",
       "4     513900000  2010  "
      ]
     },
     "execution_count": 391,
     "metadata": {},
     "output_type": "execute_result"
    }
   ],
   "source": [
    "# print out first 4 records in the dataframe\n",
    "movie_gross_df.head()"
   ]
  },
  {
   "cell_type": "code",
   "execution_count": 392,
   "metadata": {},
   "outputs": [
    {
     "data": {
      "text/plain": [
       "(3387, 5)"
      ]
     },
     "execution_count": 392,
     "metadata": {},
     "output_type": "execute_result"
    }
   ],
   "source": [
    "#print out the number of columns and rows in the dataset\n",
    "movie_gross_df.shape"
   ]
  },
  {
   "cell_type": "code",
   "execution_count": 393,
   "metadata": {},
   "outputs": [
    {
     "name": "stdout",
     "output_type": "stream",
     "text": [
      "<class 'pandas.core.frame.DataFrame'>\n",
      "RangeIndex: 3387 entries, 0 to 3386\n",
      "Data columns (total 5 columns):\n",
      " #   Column          Non-Null Count  Dtype  \n",
      "---  ------          --------------  -----  \n",
      " 0   title           3387 non-null   object \n",
      " 1   studio          3382 non-null   object \n",
      " 2   domestic_gross  3359 non-null   float64\n",
      " 3   foreign_gross   2037 non-null   object \n",
      " 4   year            3387 non-null   int64  \n",
      "dtypes: float64(1), int64(1), object(3)\n",
      "memory usage: 132.4+ KB\n"
     ]
    }
   ],
   "source": [
    "# print out information on various parameters of data in the dataframe\n",
    "movie_gross_df.info()"
   ]
  },
  {
   "cell_type": "markdown",
   "metadata": {},
   "source": [
    "#### Observations\n",
    "We note that the data the in movie gross datasets contains finacial information regarding various movies and their respective years. \n",
    "The data set has 5 columns and 3387 rows.There are 3386 movie records. \n",
    "\n",
    "The columns in the dataset include title, studio, domestic gross, foreign gross and year. \n",
    "\n",
    "The most of the data types are inline with our expectations except the foreign gross column whose records are indicated as onjects instead of float as in the type of data contained in column domestic gross.\n",
    "\n",
    "Also there are missing data in the following columns: studio, domestic_gross and foreign_gross.\n"
   ]
  },
  {
   "cell_type": "markdown",
   "metadata": {},
   "source": [
    "## ii. Explore Title Basics Dataset"
   ]
  },
  {
   "cell_type": "code",
   "execution_count": 394,
   "metadata": {},
   "outputs": [
    {
     "data": {
      "text/html": [
       "<div>\n",
       "<style scoped>\n",
       "    .dataframe tbody tr th:only-of-type {\n",
       "        vertical-align: middle;\n",
       "    }\n",
       "\n",
       "    .dataframe tbody tr th {\n",
       "        vertical-align: top;\n",
       "    }\n",
       "\n",
       "    .dataframe thead th {\n",
       "        text-align: right;\n",
       "    }\n",
       "</style>\n",
       "<table border=\"1\" class=\"dataframe\">\n",
       "  <thead>\n",
       "    <tr style=\"text-align: right;\">\n",
       "      <th></th>\n",
       "      <th>tconst</th>\n",
       "      <th>primary_title</th>\n",
       "      <th>original_title</th>\n",
       "      <th>start_year</th>\n",
       "      <th>runtime_minutes</th>\n",
       "      <th>genres</th>\n",
       "    </tr>\n",
       "  </thead>\n",
       "  <tbody>\n",
       "    <tr>\n",
       "      <th>0</th>\n",
       "      <td>tt0063540</td>\n",
       "      <td>Sunghursh</td>\n",
       "      <td>Sunghursh</td>\n",
       "      <td>2013</td>\n",
       "      <td>175.0</td>\n",
       "      <td>Action,Crime,Drama</td>\n",
       "    </tr>\n",
       "    <tr>\n",
       "      <th>1</th>\n",
       "      <td>tt0066787</td>\n",
       "      <td>One Day Before the Rainy Season</td>\n",
       "      <td>Ashad Ka Ek Din</td>\n",
       "      <td>2019</td>\n",
       "      <td>114.0</td>\n",
       "      <td>Biography,Drama</td>\n",
       "    </tr>\n",
       "    <tr>\n",
       "      <th>2</th>\n",
       "      <td>tt0069049</td>\n",
       "      <td>The Other Side of the Wind</td>\n",
       "      <td>The Other Side of the Wind</td>\n",
       "      <td>2018</td>\n",
       "      <td>122.0</td>\n",
       "      <td>Drama</td>\n",
       "    </tr>\n",
       "    <tr>\n",
       "      <th>3</th>\n",
       "      <td>tt0069204</td>\n",
       "      <td>Sabse Bada Sukh</td>\n",
       "      <td>Sabse Bada Sukh</td>\n",
       "      <td>2018</td>\n",
       "      <td>NaN</td>\n",
       "      <td>Comedy,Drama</td>\n",
       "    </tr>\n",
       "    <tr>\n",
       "      <th>4</th>\n",
       "      <td>tt0100275</td>\n",
       "      <td>The Wandering Soap Opera</td>\n",
       "      <td>La Telenovela Errante</td>\n",
       "      <td>2017</td>\n",
       "      <td>80.0</td>\n",
       "      <td>Comedy,Drama,Fantasy</td>\n",
       "    </tr>\n",
       "  </tbody>\n",
       "</table>\n",
       "</div>"
      ],
      "text/plain": [
       "      tconst                    primary_title              original_title  \\\n",
       "0  tt0063540                        Sunghursh                   Sunghursh   \n",
       "1  tt0066787  One Day Before the Rainy Season             Ashad Ka Ek Din   \n",
       "2  tt0069049       The Other Side of the Wind  The Other Side of the Wind   \n",
       "3  tt0069204                  Sabse Bada Sukh             Sabse Bada Sukh   \n",
       "4  tt0100275         The Wandering Soap Opera       La Telenovela Errante   \n",
       "\n",
       "   start_year  runtime_minutes                genres  \n",
       "0        2013            175.0    Action,Crime,Drama  \n",
       "1        2019            114.0       Biography,Drama  \n",
       "2        2018            122.0                 Drama  \n",
       "3        2018              NaN          Comedy,Drama  \n",
       "4        2017             80.0  Comedy,Drama,Fantasy  "
      ]
     },
     "execution_count": 394,
     "metadata": {},
     "output_type": "execute_result"
    }
   ],
   "source": [
    "# print out first 4 records in the dataframe\n",
    "title_basics_df.head()"
   ]
  },
  {
   "cell_type": "code",
   "execution_count": 395,
   "metadata": {},
   "outputs": [
    {
     "data": {
      "text/plain": [
       "(146144, 6)"
      ]
     },
     "execution_count": 395,
     "metadata": {},
     "output_type": "execute_result"
    }
   ],
   "source": [
    "#print out the number of columns and rows in the dataset\n",
    "title_basics_df.shape"
   ]
  },
  {
   "cell_type": "code",
   "execution_count": 396,
   "metadata": {},
   "outputs": [
    {
     "name": "stdout",
     "output_type": "stream",
     "text": [
      "<class 'pandas.core.frame.DataFrame'>\n",
      "RangeIndex: 146144 entries, 0 to 146143\n",
      "Data columns (total 6 columns):\n",
      " #   Column           Non-Null Count   Dtype  \n",
      "---  ------           --------------   -----  \n",
      " 0   tconst           146144 non-null  object \n",
      " 1   primary_title    146144 non-null  object \n",
      " 2   original_title   146123 non-null  object \n",
      " 3   start_year       146144 non-null  int64  \n",
      " 4   runtime_minutes  114405 non-null  float64\n",
      " 5   genres           140736 non-null  object \n",
      "dtypes: float64(1), int64(1), object(4)\n",
      "memory usage: 6.7+ MB\n"
     ]
    }
   ],
   "source": [
    "# print out information on various parameters of data in the dataframe\n",
    "title_basics_df.info()"
   ]
  },
  {
   "cell_type": "markdown",
   "metadata": {},
   "source": [
    "### Observations\n",
    "\n",
    "This dataset has 6 columns which include: tconst, primary_title, original_title, start_year, runtime_minutes and genres.\n",
    "The dataset is focused on information regarding films in different genres that that were released in different years.\n",
    "\n",
    "The dataset is composed of 146,144 records and information on 146,144 films. \n",
    "\n",
    "The data types are as they should be expected with columns containing string classified as objects while numerical values for year and runtime_minutes as float and integers respectively.\n",
    "The columns with missing data in this data set include original_title, runtime_minutes and genres.\n",
    "\n",
    "this data set has fields that are common with the other two datasets:\n",
    "\n",
    "    a) The movie gross datasets has a title column that may be shared with either of the two title columns\n",
    "    b) The tconst field is similar to the tconst column that is contained in the title ratings dataset.\n"
   ]
  },
  {
   "cell_type": "markdown",
   "metadata": {},
   "source": [
    "## iii. Explore Title Ratings Dataset"
   ]
  },
  {
   "cell_type": "code",
   "execution_count": 397,
   "metadata": {},
   "outputs": [
    {
     "data": {
      "text/html": [
       "<div>\n",
       "<style scoped>\n",
       "    .dataframe tbody tr th:only-of-type {\n",
       "        vertical-align: middle;\n",
       "    }\n",
       "\n",
       "    .dataframe tbody tr th {\n",
       "        vertical-align: top;\n",
       "    }\n",
       "\n",
       "    .dataframe thead th {\n",
       "        text-align: right;\n",
       "    }\n",
       "</style>\n",
       "<table border=\"1\" class=\"dataframe\">\n",
       "  <thead>\n",
       "    <tr style=\"text-align: right;\">\n",
       "      <th></th>\n",
       "      <th>tconst</th>\n",
       "      <th>averagerating</th>\n",
       "      <th>numvotes</th>\n",
       "    </tr>\n",
       "  </thead>\n",
       "  <tbody>\n",
       "    <tr>\n",
       "      <th>0</th>\n",
       "      <td>tt10356526</td>\n",
       "      <td>8.3</td>\n",
       "      <td>31</td>\n",
       "    </tr>\n",
       "    <tr>\n",
       "      <th>1</th>\n",
       "      <td>tt10384606</td>\n",
       "      <td>8.9</td>\n",
       "      <td>559</td>\n",
       "    </tr>\n",
       "    <tr>\n",
       "      <th>2</th>\n",
       "      <td>tt1042974</td>\n",
       "      <td>6.4</td>\n",
       "      <td>20</td>\n",
       "    </tr>\n",
       "    <tr>\n",
       "      <th>3</th>\n",
       "      <td>tt1043726</td>\n",
       "      <td>4.2</td>\n",
       "      <td>50352</td>\n",
       "    </tr>\n",
       "    <tr>\n",
       "      <th>4</th>\n",
       "      <td>tt1060240</td>\n",
       "      <td>6.5</td>\n",
       "      <td>21</td>\n",
       "    </tr>\n",
       "  </tbody>\n",
       "</table>\n",
       "</div>"
      ],
      "text/plain": [
       "       tconst  averagerating  numvotes\n",
       "0  tt10356526            8.3        31\n",
       "1  tt10384606            8.9       559\n",
       "2   tt1042974            6.4        20\n",
       "3   tt1043726            4.2     50352\n",
       "4   tt1060240            6.5        21"
      ]
     },
     "execution_count": 397,
     "metadata": {},
     "output_type": "execute_result"
    }
   ],
   "source": [
    "# print out first 4 records in the dataframe\n",
    "title_ratings_df .head()"
   ]
  },
  {
   "cell_type": "code",
   "execution_count": 398,
   "metadata": {},
   "outputs": [
    {
     "data": {
      "text/plain": [
       "(73856, 3)"
      ]
     },
     "execution_count": 398,
     "metadata": {},
     "output_type": "execute_result"
    }
   ],
   "source": [
    "#print out the number of columns and rows in the dataset\n",
    "title_ratings_df.shape"
   ]
  },
  {
   "cell_type": "code",
   "execution_count": 399,
   "metadata": {},
   "outputs": [
    {
     "name": "stdout",
     "output_type": "stream",
     "text": [
      "<class 'pandas.core.frame.DataFrame'>\n",
      "RangeIndex: 73856 entries, 0 to 73855\n",
      "Data columns (total 3 columns):\n",
      " #   Column         Non-Null Count  Dtype  \n",
      "---  ------         --------------  -----  \n",
      " 0   tconst         73856 non-null  object \n",
      " 1   averagerating  73856 non-null  float64\n",
      " 2   numvotes       73856 non-null  int64  \n",
      "dtypes: float64(1), int64(1), object(1)\n",
      "memory usage: 1.7+ MB\n"
     ]
    }
   ],
   "source": [
    "# print out information on various parameters of data in the dataframe\n",
    "title_ratings_df.info()"
   ]
  },
  {
   "cell_type": "markdown",
   "metadata": {},
   "source": [
    "### Observations\n",
    "\n",
    "This dataset contains data regarding fillm ratings for various movies which are uniuquely identified by the index colum which is tconst. \n",
    "\n",
    "This dataset has 3 columns including tconst, averageratings and numvotes.\n",
    "The tconst column is common to this dataset and the title_basics dataset.\n",
    "There are 73,865 rows in the data. We note that the data does not have missing records. Additionally, the dataset has the correct data type for the three fields. The datatypes for columns 1,2 and 3 are object, float and integer respectively.\n"
   ]
  },
  {
   "cell_type": "markdown",
   "metadata": {},
   "source": [
    "## 2.2 DATA CLEANING"
   ]
  },
  {
   "cell_type": "markdown",
   "metadata": {},
   "source": [
    "### Data cleaning the movie gross dataset"
   ]
  },
  {
   "cell_type": "code",
   "execution_count": 400,
   "metadata": {},
   "outputs": [
    {
     "name": "stdout",
     "output_type": "stream",
     "text": [
      "title                0\n",
      "studio               5\n",
      "domestic_gross      28\n",
      "foreign_gross     1350\n",
      "year                 0\n",
      "dtype: int64\n"
     ]
    },
    {
     "data": {
      "text/plain": [
       "False    3387\n",
       "dtype: int64"
      ]
     },
     "execution_count": 400,
     "metadata": {},
     "output_type": "execute_result"
    }
   ],
   "source": [
    "# This is to check for missing values and duplicated values in the dataset\n",
    "print(movie_gross_df.isna().sum())\n",
    "movie_gross_df.duplicated().value_counts()\n"
   ]
  },
  {
   "cell_type": "code",
   "execution_count": 401,
   "metadata": {},
   "outputs": [
    {
     "name": "stdout",
     "output_type": "stream",
     "text": [
      "                              title studio  domestic_gross foreign_gross  year\n",
      "933           Keith Lemon: The Film    NaN             NaN       4000000  2012\n",
      "555         Fireflies in the Garden    NaN         70600.0       3300000  2011\n",
      "2825               Secret Superstar    NaN             NaN     122000000  2017\n",
      "210   Outside the Law (Hors-la-loi)    NaN         96900.0       3300000  2010\n",
      "1862                 Plot for Peace    NaN          7100.0           NaN  2014\n"
     ]
    }
   ],
   "source": [
    "#sampling and remedying missing values for studio column\n",
    "#sampling\n",
    "misstudio_movie_gross_df = movie_gross_df[movie_gross_df[\"studio\"].isna()].sample(5, random_state=1)\n",
    "print(misstudio_movie_gross_df)\n",
    "\n",
    "#removing missing values\n",
    "movie_gross_df.dropna(subset=[\"studio\"], inplace=True)"
   ]
  },
  {
   "cell_type": "code",
   "execution_count": 402,
   "metadata": {},
   "outputs": [
    {
     "name": "stdout",
     "output_type": "stream",
     "text": [
      "                               title studio  domestic_gross foreign_gross  \\\n",
      "1659                      Jessabelle    LGF             NaN       7000000   \n",
      "1268                      22 Bullets  Cdgm.             NaN      21300000   \n",
      "1368                         6 Souls   RTWC             NaN        852000   \n",
      "306                 Badmaash Company   Yash             NaN         64400   \n",
      "1975  Surprise - Journey To The West     AR             NaN      49600000   \n",
      "\n",
      "      year  \n",
      "1659  2014  \n",
      "1268  2013  \n",
      "1368  2013  \n",
      "306   2010  \n",
      "1975  2015  \n"
     ]
    }
   ],
   "source": [
    "#sampling and remedying missing values for domestic_gross column\n",
    "#sampling\n",
    "misdome_gross_movie_gross_df = movie_gross_df[movie_gross_df[\"domestic_gross\"].isna()].sample(5, random_state=1)\n",
    "print(misdome_gross_movie_gross_df)\n",
    "\n",
    "#replace the missing values with 0\n",
    "movie_gross_df[\"domestic_gross\"] = movie_gross_df[\"domestic_gross\"].replace(np.nan, 0)"
   ]
  },
  {
   "cell_type": "code",
   "execution_count": 403,
   "metadata": {},
   "outputs": [
    {
     "name": "stdout",
     "output_type": "stream",
     "text": [
      "                                 title studio  domestic_gross foreign_gross  \\\n",
      "2204  Love Live! The School Idol Movie     AZ        116000.0           NaN   \n",
      "1766      But Always (Yi Sheng Yi Shi)     CL        431000.0           NaN   \n",
      "1736                       The Captive    A24       1100000.0           NaN   \n",
      "1858                Love is in the Air    FCW          8400.0           NaN   \n",
      "2523                    Swiss Army Man    A24       4200000.0           NaN   \n",
      "\n",
      "      year  \n",
      "2204  2015  \n",
      "1766  2014  \n",
      "1736  2014  \n",
      "1858  2014  \n",
      "2523  2016  \n",
      "<class 'pandas.core.frame.DataFrame'>\n",
      "Int64Index: 3382 entries, 0 to 3386\n",
      "Data columns (total 5 columns):\n",
      " #   Column          Non-Null Count  Dtype  \n",
      "---  ------          --------------  -----  \n",
      " 0   title           3382 non-null   object \n",
      " 1   studio          3382 non-null   object \n",
      " 2   domestic_gross  3382 non-null   float64\n",
      " 3   foreign_gross   2033 non-null   float64\n",
      " 4   year            3382 non-null   int64  \n",
      "dtypes: float64(2), int64(1), object(2)\n",
      "memory usage: 158.5+ KB\n",
      "None\n"
     ]
    }
   ],
   "source": [
    "# samplying and remedying for missing values in the foreign gross column\n",
    "misforgross_movie_gross_df = movie_gross_df[movie_gross_df[\"foreign_gross\"].isna()].sample(5, random_state=1)\n",
    "print(misforgross_movie_gross_df)\n",
    "\n",
    "movie_gross_df[\"foreign_gross\"] = movie_gross_df[\"foreign_gross\"].replace(\",\", \"\")\n",
    "\n",
    "# cast the datatype of foreign gross column into a float\n",
    "movie_gross_df[\"foreign_gross\"] = movie_gross_df[\"foreign_gross\"].str.replace(',', '').astype(float)\n",
    "\n",
    "print(movie_gross_df.info())\n",
    "# fill in missing values with the median of the column\n",
    "movie_gross_df[\"foreign_gross\"] = movie_gross_df[\"foreign_gross\"].fillna(movie_gross_df[\"foreign_gross\"].median())"
   ]
  },
  {
   "cell_type": "code",
   "execution_count": 404,
   "metadata": {},
   "outputs": [
    {
     "name": "stdout",
     "output_type": "stream",
     "text": [
      "title             0\n",
      "studio            0\n",
      "domestic_gross    0\n",
      "foreign_gross     0\n",
      "year              0\n",
      "dtype: int64\n"
     ]
    }
   ],
   "source": [
    "print(movie_gross_df.isna().sum())"
   ]
  },
  {
   "cell_type": "markdown",
   "metadata": {},
   "source": [
    "### Observation\n",
    "While there are no duplicate values in the dataset. We note that some of the fields have missing values. Thhis applies ato studio domestic_gross and foreign gross. Foreign gross, has the largest case of missing values. \n",
    "\n",
    "Studio names are key to identifying the most profitabke studios, therefore we shall remove the records with missing values as this will ensure clean data that is not greatly affected by removal of 5 of the 3387 records.\n",
    "\n",
    "The domestic gross columm has missing values. This may mean that they were not input correctly or there were no domestic sales. because the number of missing values is not material, we shall replace them with 0 and not the mean so as to account for scenarios where the movies were only consumed by the international market as in streamed movies on streaming sites such as netflix.\n",
    "\n",
    "\n",
    "The foreign gross colum was an object type but should be converted into a float for data wrangling. Then we need to fill in the missing values with the median of the colum since there are atleat 30% missing records in that  column.\n"
   ]
  },
  {
   "cell_type": "markdown",
   "metadata": {},
   "source": [
    "### Data cleaning the title ratings dataset"
   ]
  },
  {
   "cell_type": "code",
   "execution_count": 405,
   "metadata": {},
   "outputs": [
    {
     "name": "stdout",
     "output_type": "stream",
     "text": [
      "tconst           0\n",
      "averagerating    0\n",
      "numvotes         0\n",
      "dtype: int64\n"
     ]
    },
    {
     "data": {
      "text/plain": [
       "False    73856\n",
       "dtype: int64"
      ]
     },
     "execution_count": 405,
     "metadata": {},
     "output_type": "execute_result"
    }
   ],
   "source": [
    "# This is to check for missing values and duplicated values in the dataset\n",
    "print(title_ratings_df.isna().sum())\n",
    "title_ratings_df.duplicated().value_counts()"
   ]
  },
  {
   "cell_type": "markdown",
   "metadata": {},
   "source": [
    "### Observation\n",
    "While there are no duplicate values in this dataset. \n",
    "We note that this dataset had no missing values as well.\n"
   ]
  },
  {
   "cell_type": "markdown",
   "metadata": {},
   "source": [
    "### Data cleaning the title basics dataset"
   ]
  },
  {
   "cell_type": "code",
   "execution_count": 406,
   "metadata": {},
   "outputs": [
    {
     "name": "stdout",
     "output_type": "stream",
     "text": [
      "tconst                 0\n",
      "primary_title          0\n",
      "original_title        21\n",
      "start_year             0\n",
      "runtime_minutes    31739\n",
      "genres              5408\n",
      "dtype: int64\n"
     ]
    },
    {
     "data": {
      "text/plain": [
       "False    146144\n",
       "dtype: int64"
      ]
     },
     "execution_count": 406,
     "metadata": {},
     "output_type": "execute_result"
    }
   ],
   "source": [
    "# This is to check for missing values and duplicated values in the dataset\n",
    "print(title_basics_df.isna().sum())\n",
    "title_basics_df.duplicated().value_counts()"
   ]
  },
  {
   "cell_type": "code",
   "execution_count": 407,
   "metadata": {},
   "outputs": [
    {
     "data": {
      "text/html": [
       "<div>\n",
       "<style scoped>\n",
       "    .dataframe tbody tr th:only-of-type {\n",
       "        vertical-align: middle;\n",
       "    }\n",
       "\n",
       "    .dataframe tbody tr th {\n",
       "        vertical-align: top;\n",
       "    }\n",
       "\n",
       "    .dataframe thead th {\n",
       "        text-align: right;\n",
       "    }\n",
       "</style>\n",
       "<table border=\"1\" class=\"dataframe\">\n",
       "  <thead>\n",
       "    <tr style=\"text-align: right;\">\n",
       "      <th></th>\n",
       "      <th>tconst</th>\n",
       "      <th>primary_title</th>\n",
       "      <th>original_title</th>\n",
       "      <th>start_year</th>\n",
       "      <th>runtime_minutes</th>\n",
       "      <th>genres</th>\n",
       "    </tr>\n",
       "  </thead>\n",
       "  <tbody>\n",
       "    <tr>\n",
       "      <th>112608</th>\n",
       "      <td>tt6603544</td>\n",
       "      <td>Utopians</td>\n",
       "      <td>NaN</td>\n",
       "      <td>2015</td>\n",
       "      <td>NaN</td>\n",
       "      <td>NaN</td>\n",
       "    </tr>\n",
       "    <tr>\n",
       "      <th>107378</th>\n",
       "      <td>tt6288348</td>\n",
       "      <td>Deadly Affection</td>\n",
       "      <td>NaN</td>\n",
       "      <td>2017</td>\n",
       "      <td>NaN</td>\n",
       "      <td>NaN</td>\n",
       "    </tr>\n",
       "    <tr>\n",
       "      <th>79274</th>\n",
       "      <td>tt4548042</td>\n",
       "      <td>Urban Legend: The Blind Side Strangler</td>\n",
       "      <td>NaN</td>\n",
       "      <td>2016</td>\n",
       "      <td>NaN</td>\n",
       "      <td>NaN</td>\n",
       "    </tr>\n",
       "    <tr>\n",
       "      <th>115983</th>\n",
       "      <td>tt6882442</td>\n",
       "      <td>Hirugao: Love Affairs in the Afternoon</td>\n",
       "      <td>NaN</td>\n",
       "      <td>2017</td>\n",
       "      <td>125.0</td>\n",
       "      <td>Romance</td>\n",
       "    </tr>\n",
       "    <tr>\n",
       "      <th>115934</th>\n",
       "      <td>tt6877572</td>\n",
       "      <td>X A 7</td>\n",
       "      <td>NaN</td>\n",
       "      <td>2020</td>\n",
       "      <td>NaN</td>\n",
       "      <td>NaN</td>\n",
       "    </tr>\n",
       "  </tbody>\n",
       "</table>\n",
       "</div>"
      ],
      "text/plain": [
       "           tconst                           primary_title original_title  \\\n",
       "112608  tt6603544                                Utopians            NaN   \n",
       "107378  tt6288348                        Deadly Affection            NaN   \n",
       "79274   tt4548042  Urban Legend: The Blind Side Strangler            NaN   \n",
       "115983  tt6882442  Hirugao: Love Affairs in the Afternoon            NaN   \n",
       "115934  tt6877572                                   X A 7            NaN   \n",
       "\n",
       "        start_year  runtime_minutes   genres  \n",
       "112608        2015              NaN      NaN  \n",
       "107378        2017              NaN      NaN  \n",
       "79274         2016              NaN      NaN  \n",
       "115983        2017            125.0  Romance  \n",
       "115934        2020              NaN      NaN  "
      ]
     },
     "execution_count": 407,
     "metadata": {},
     "output_type": "execute_result"
    }
   ],
   "source": [
    "#sample missing values for original and genre columns\n",
    "mistitle_title_basics_df = title_basics_df[title_basics_df[\"original_title\"].isna()].sample(5, random_state=1)\n",
    "mistitle_title_basics_df\n"
   ]
  },
  {
   "cell_type": "code",
   "execution_count": 408,
   "metadata": {},
   "outputs": [],
   "source": [
    "#replacing the missing names\n",
    "title_basics_df[\"original_title\"] = title_basics_df[\"original_title\"].fillna(title_basics_df[\"primary_title\"])\n",
    "\n",
    "#fill in the runtime with median of the column\n",
    "title_basics_df[\"runtime_minutes\"] = title_basics_df[\"runtime_minutes\"].fillna(title_basics_df[\"runtime_minutes\"].median())\n"
   ]
  },
  {
   "cell_type": "code",
   "execution_count": 409,
   "metadata": {},
   "outputs": [],
   "source": [
    "#sample the genres column\n",
    "\n",
    "misrating_title_basics_df = title_basics_df[title_basics_df[\"genres\"].isna()].sample(5, random_state=1)\n",
    "misrating_title_basics_df \n",
    "\n",
    "#drop records that have missing genres\n",
    "title_basics_df.dropna(subset=[\"genres\"], inplace=True)"
   ]
  },
  {
   "cell_type": "markdown",
   "metadata": {},
   "source": [
    "### Observation\n",
    "This dataset has missing values but no duplicate values.\n",
    "\n",
    "The columns with missing values include the original title, the runtime minutes and the genres columns.\n",
    "\n",
    "We shall replace the missing names in the original title column with those in the primary title, this is because the primary titile name is widely used and can be applied in merging of this data frame.\n",
    "We shall remove the records without original title as well as the records without genres. \n",
    "\n",
    "The missing values for the runtime minutes will be filled in from the median of the column.\n",
    "\n"
   ]
  },
  {
   "cell_type": "code",
   "execution_count": 410,
   "metadata": {},
   "outputs": [
    {
     "name": "stdout",
     "output_type": "stream",
     "text": [
      "tconst             0\n",
      "primary_title      0\n",
      "original_title     0\n",
      "start_year         0\n",
      "runtime_minutes    0\n",
      "genres             0\n",
      "dtype: int64\n"
     ]
    }
   ],
   "source": [
    "print(title_basics_df.isna().sum())"
   ]
  },
  {
   "cell_type": "markdown",
   "metadata": {},
   "source": [
    "  "
   ]
  },
  {
   "cell_type": "markdown",
   "metadata": {},
   "source": [
    "The data is now clean for the next stage of analysis"
   ]
  },
  {
   "cell_type": "markdown",
   "metadata": {},
   "source": [
    "## 2.3 DATA AGGREGATION"
   ]
  },
  {
   "cell_type": "markdown",
   "metadata": {},
   "source": [
    "We shall merge the data sets so that they can be utilized properly for the visualizations"
   ]
  },
  {
   "cell_type": "code",
   "execution_count": 411,
   "metadata": {},
   "outputs": [],
   "source": [
    "#movie_gross_df = change title to primary title in preparation for merging\n",
    "\n",
    "movie_gross_df.rename(columns={'title': 'primary_title'}, inplace=True)\n",
    "\n",
    "#merging the data sets\n",
    "\n",
    "full_movie_df = movie_gross_df.merge(title_basics_df, on='primary_title').merge(title_ratings_df, on='tconst')\n"
   ]
  },
  {
   "cell_type": "code",
   "execution_count": 438,
   "metadata": {},
   "outputs": [
    {
     "name": "stdout",
     "output_type": "stream",
     "text": [
      "  primary_title studio  domestic_gross  foreign_gross  year     tconst  \\\n",
      "0   Toy Story 3     BV     415000000.0    652000000.0  2010  tt0435761   \n",
      "\n",
      "  original_title  start_year  runtime_minutes                      genres  \\\n",
      "0    Toy Story 3        2010            103.0  Adventure,Animation,Comedy   \n",
      "\n",
      "   averagerating  numvotes  \n",
      "0            8.3    682218  \n",
      "primary_title      0\n",
      "studio             0\n",
      "domestic_gross     0\n",
      "foreign_gross      0\n",
      "year               0\n",
      "tconst             0\n",
      "original_title     0\n",
      "start_year         0\n",
      "runtime_minutes    0\n",
      "genres             0\n",
      "averagerating      0\n",
      "numvotes           0\n",
      "dtype: int64\n",
      "(3016, 12)\n",
      "<class 'pandas.core.frame.DataFrame'>\n",
      "Int64Index: 3016 entries, 0 to 3015\n",
      "Data columns (total 12 columns):\n",
      " #   Column           Non-Null Count  Dtype  \n",
      "---  ------           --------------  -----  \n",
      " 0   primary_title    3016 non-null   object \n",
      " 1   studio           3016 non-null   object \n",
      " 2   domestic_gross   3016 non-null   float64\n",
      " 3   foreign_gross    3016 non-null   float64\n",
      " 4   year             3016 non-null   int64  \n",
      " 5   tconst           3016 non-null   object \n",
      " 6   original_title   3016 non-null   object \n",
      " 7   start_year       3016 non-null   int64  \n",
      " 8   runtime_minutes  3016 non-null   float64\n",
      " 9   genres           3016 non-null   object \n",
      " 10  averagerating    3016 non-null   float64\n",
      " 11  numvotes         3016 non-null   int64  \n",
      "dtypes: float64(4), int64(3), object(5)\n",
      "memory usage: 306.3+ KB\n",
      "None\n"
     ]
    }
   ],
   "source": [
    "#description of the 3 merge datasets\n",
    "print(full_movie_df.head(1))\n",
    "print(full_movie_df.isna().sum())\n",
    "print(full_movie_df.shape)\n",
    "print(full_movie_df.info())"
   ]
  },
  {
   "cell_type": "code",
   "execution_count": 439,
   "metadata": {},
   "outputs": [
    {
     "data": {
      "text/html": [
       "<div>\n",
       "<style scoped>\n",
       "    .dataframe tbody tr th:only-of-type {\n",
       "        vertical-align: middle;\n",
       "    }\n",
       "\n",
       "    .dataframe tbody tr th {\n",
       "        vertical-align: top;\n",
       "    }\n",
       "\n",
       "    .dataframe thead th {\n",
       "        text-align: right;\n",
       "    }\n",
       "</style>\n",
       "<table border=\"1\" class=\"dataframe\">\n",
       "  <thead>\n",
       "    <tr style=\"text-align: right;\">\n",
       "      <th></th>\n",
       "      <th>domestic_gross</th>\n",
       "      <th>foreign_gross</th>\n",
       "      <th>year</th>\n",
       "      <th>start_year</th>\n",
       "      <th>runtime_minutes</th>\n",
       "      <th>numvotes</th>\n",
       "    </tr>\n",
       "    <tr>\n",
       "      <th>averagerating</th>\n",
       "      <th></th>\n",
       "      <th></th>\n",
       "      <th></th>\n",
       "      <th></th>\n",
       "      <th></th>\n",
       "      <th></th>\n",
       "    </tr>\n",
       "  </thead>\n",
       "  <tbody>\n",
       "    <tr>\n",
       "      <th>1.6</th>\n",
       "      <td>73104000.0</td>\n",
       "      <td>44700000.0</td>\n",
       "      <td>4029</td>\n",
       "      <td>4029</td>\n",
       "      <td>246.0</td>\n",
       "      <td>77065</td>\n",
       "    </tr>\n",
       "    <tr>\n",
       "      <th>1.7</th>\n",
       "      <td>23871000.0</td>\n",
       "      <td>24500000.0</td>\n",
       "      <td>4023</td>\n",
       "      <td>4026</td>\n",
       "      <td>262.0</td>\n",
       "      <td>7454</td>\n",
       "    </tr>\n",
       "    <tr>\n",
       "      <th>1.9</th>\n",
       "      <td>8400000.0</td>\n",
       "      <td>18700000.0</td>\n",
       "      <td>2015</td>\n",
       "      <td>2013</td>\n",
       "      <td>94.0</td>\n",
       "      <td>247</td>\n",
       "    </tr>\n",
       "    <tr>\n",
       "      <th>2.1</th>\n",
       "      <td>800.0</td>\n",
       "      <td>1100000.0</td>\n",
       "      <td>2014</td>\n",
       "      <td>2013</td>\n",
       "      <td>132.0</td>\n",
       "      <td>647</td>\n",
       "    </tr>\n",
       "    <tr>\n",
       "      <th>2.4</th>\n",
       "      <td>47700.0</td>\n",
       "      <td>37400000.0</td>\n",
       "      <td>4030</td>\n",
       "      <td>4033</td>\n",
       "      <td>216.0</td>\n",
       "      <td>2608</td>\n",
       "    </tr>\n",
       "  </tbody>\n",
       "</table>\n",
       "</div>"
      ],
      "text/plain": [
       "               domestic_gross  foreign_gross  year  start_year  \\\n",
       "averagerating                                                    \n",
       "1.6                73104000.0     44700000.0  4029        4029   \n",
       "1.7                23871000.0     24500000.0  4023        4026   \n",
       "1.9                 8400000.0     18700000.0  2015        2013   \n",
       "2.1                     800.0      1100000.0  2014        2013   \n",
       "2.4                   47700.0     37400000.0  4030        4033   \n",
       "\n",
       "               runtime_minutes  numvotes  \n",
       "averagerating                             \n",
       "1.6                      246.0     77065  \n",
       "1.7                      262.0      7454  \n",
       "1.9                       94.0       247  \n",
       "2.1                      132.0       647  \n",
       "2.4                      216.0      2608  "
      ]
     },
     "execution_count": 439,
     "metadata": {},
     "output_type": "execute_result"
    }
   ],
   "source": [
    "#agrregation of the ratings\n",
    "ratings = full_movie_df.groupby(full_movie_df[\"averagerating\"]).sum()\n",
    "ratings.head()"
   ]
  },
  {
   "cell_type": "code",
   "execution_count": 453,
   "metadata": {},
   "outputs": [
    {
     "name": "stdout",
     "output_type": "stream",
     "text": [
      "Drama                         317\n",
      "Comedy,Drama                  133\n",
      "Comedy,Drama,Romance          132\n",
      "Drama,Romance                 112\n",
      "Documentary                   110\n",
      "Comedy                         94\n",
      "Adventure,Animation,Comedy     75\n",
      "Comedy,Romance                 72\n",
      "Drama,Thriller                 54\n",
      "Action,Adventure,Sci-Fi        47\n",
      "Name: genres, dtype: int64\n",
      "the number of films that are top genres is 1146. \n",
      "the number of films that in all genres is 3016. \n"
     ]
    }
   ],
   "source": [
    "# count per genre\n",
    "genres = full_movie_df[\"genres\"].value_counts()\n",
    "\n",
    "# most popular genres\n",
    "top_genres = genres.head(10)\n",
    "print(top_genres)\n",
    "print(f\"\"\"the number of films that are top genres is {top_genres.sum()}. \"\"\".format(top_genres.sum()))\n",
    "print(f\"\"\"the number of films that in all genres is {sum(genres)}. \"\"\".format(sum(genres)))"
   ]
  },
  {
   "cell_type": "code",
   "execution_count": 467,
   "metadata": {},
   "outputs": [
    {
     "name": "stdout",
     "output_type": "stream",
     "text": [
      "6        16\n",
      "12       13\n",
      "10       12\n",
      "7        11\n",
      "8        11\n",
      "         ..\n",
      "4731      1\n",
      "60026     1\n",
      "12921     1\n",
      "4727      1\n",
      "12290     1\n",
      "Name: numvotes, Length: 2738, dtype: int64\n"
     ]
    }
   ],
   "source": [
    "votes = full_movie_df[\"numvotes\"].sum()\n",
    "print(full_movie_df[\"numvotes\"].value_counts())\n",
    "#print(votes)"
   ]
  },
  {
   "cell_type": "code",
   "execution_count": 455,
   "metadata": {},
   "outputs": [
    {
     "data": {
      "text/html": [
       "<div>\n",
       "<style scoped>\n",
       "    .dataframe tbody tr th:only-of-type {\n",
       "        vertical-align: middle;\n",
       "    }\n",
       "\n",
       "    .dataframe tbody tr th {\n",
       "        vertical-align: top;\n",
       "    }\n",
       "\n",
       "    .dataframe thead th {\n",
       "        text-align: right;\n",
       "    }\n",
       "</style>\n",
       "<table border=\"1\" class=\"dataframe\">\n",
       "  <thead>\n",
       "    <tr style=\"text-align: right;\">\n",
       "      <th></th>\n",
       "      <th>primary_title</th>\n",
       "      <th>studio</th>\n",
       "      <th>domestic_gross</th>\n",
       "      <th>foreign_gross</th>\n",
       "      <th>year</th>\n",
       "      <th>tconst</th>\n",
       "      <th>original_title</th>\n",
       "      <th>start_year</th>\n",
       "      <th>runtime_minutes</th>\n",
       "      <th>genres</th>\n",
       "      <th>averagerating</th>\n",
       "      <th>numvotes</th>\n",
       "    </tr>\n",
       "  </thead>\n",
       "  <tbody>\n",
       "    <tr>\n",
       "      <th>0</th>\n",
       "      <td>Toy Story 3</td>\n",
       "      <td>BV</td>\n",
       "      <td>415000000.0</td>\n",
       "      <td>652000000.0</td>\n",
       "      <td>2010</td>\n",
       "      <td>tt0435761</td>\n",
       "      <td>Toy Story 3</td>\n",
       "      <td>2010</td>\n",
       "      <td>103.0</td>\n",
       "      <td>Adventure,Animation,Comedy</td>\n",
       "      <td>8.3</td>\n",
       "      <td>682218</td>\n",
       "    </tr>\n",
       "    <tr>\n",
       "      <th>1</th>\n",
       "      <td>Inception</td>\n",
       "      <td>WB</td>\n",
       "      <td>292600000.0</td>\n",
       "      <td>535700000.0</td>\n",
       "      <td>2010</td>\n",
       "      <td>tt1375666</td>\n",
       "      <td>Inception</td>\n",
       "      <td>2010</td>\n",
       "      <td>148.0</td>\n",
       "      <td>Action,Adventure,Sci-Fi</td>\n",
       "      <td>8.8</td>\n",
       "      <td>1841066</td>\n",
       "    </tr>\n",
       "    <tr>\n",
       "      <th>2</th>\n",
       "      <td>Shrek Forever After</td>\n",
       "      <td>P/DW</td>\n",
       "      <td>238700000.0</td>\n",
       "      <td>513900000.0</td>\n",
       "      <td>2010</td>\n",
       "      <td>tt0892791</td>\n",
       "      <td>Shrek Forever After</td>\n",
       "      <td>2010</td>\n",
       "      <td>93.0</td>\n",
       "      <td>Adventure,Animation,Comedy</td>\n",
       "      <td>6.3</td>\n",
       "      <td>167532</td>\n",
       "    </tr>\n",
       "    <tr>\n",
       "      <th>3</th>\n",
       "      <td>The Twilight Saga: Eclipse</td>\n",
       "      <td>Sum.</td>\n",
       "      <td>300500000.0</td>\n",
       "      <td>398000000.0</td>\n",
       "      <td>2010</td>\n",
       "      <td>tt1325004</td>\n",
       "      <td>The Twilight Saga: Eclipse</td>\n",
       "      <td>2010</td>\n",
       "      <td>124.0</td>\n",
       "      <td>Adventure,Drama,Fantasy</td>\n",
       "      <td>5.0</td>\n",
       "      <td>211733</td>\n",
       "    </tr>\n",
       "    <tr>\n",
       "      <th>4</th>\n",
       "      <td>Iron Man 2</td>\n",
       "      <td>Par.</td>\n",
       "      <td>312400000.0</td>\n",
       "      <td>311500000.0</td>\n",
       "      <td>2010</td>\n",
       "      <td>tt1228705</td>\n",
       "      <td>Iron Man 2</td>\n",
       "      <td>2010</td>\n",
       "      <td>124.0</td>\n",
       "      <td>Action,Adventure,Sci-Fi</td>\n",
       "      <td>7.0</td>\n",
       "      <td>657690</td>\n",
       "    </tr>\n",
       "    <tr>\n",
       "      <th>...</th>\n",
       "      <td>...</td>\n",
       "      <td>...</td>\n",
       "      <td>...</td>\n",
       "      <td>...</td>\n",
       "      <td>...</td>\n",
       "      <td>...</td>\n",
       "      <td>...</td>\n",
       "      <td>...</td>\n",
       "      <td>...</td>\n",
       "      <td>...</td>\n",
       "      <td>...</td>\n",
       "      <td>...</td>\n",
       "    </tr>\n",
       "    <tr>\n",
       "      <th>3011</th>\n",
       "      <td>Souvenir</td>\n",
       "      <td>Strand</td>\n",
       "      <td>11400.0</td>\n",
       "      <td>18700000.0</td>\n",
       "      <td>2018</td>\n",
       "      <td>tt2387692</td>\n",
       "      <td>Souvenir</td>\n",
       "      <td>2016</td>\n",
       "      <td>90.0</td>\n",
       "      <td>Drama,Music,Romance</td>\n",
       "      <td>6.0</td>\n",
       "      <td>823</td>\n",
       "    </tr>\n",
       "    <tr>\n",
       "      <th>3012</th>\n",
       "      <td>Souvenir</td>\n",
       "      <td>Strand</td>\n",
       "      <td>11400.0</td>\n",
       "      <td>18700000.0</td>\n",
       "      <td>2018</td>\n",
       "      <td>tt2389092</td>\n",
       "      <td>Souvenir</td>\n",
       "      <td>2014</td>\n",
       "      <td>86.0</td>\n",
       "      <td>Comedy,Romance</td>\n",
       "      <td>5.9</td>\n",
       "      <td>9</td>\n",
       "    </tr>\n",
       "    <tr>\n",
       "      <th>3013</th>\n",
       "      <td>Beauty and the Dogs</td>\n",
       "      <td>Osci.</td>\n",
       "      <td>8900.0</td>\n",
       "      <td>18700000.0</td>\n",
       "      <td>2018</td>\n",
       "      <td>tt6776572</td>\n",
       "      <td>Aala Kaf Ifrit</td>\n",
       "      <td>2017</td>\n",
       "      <td>100.0</td>\n",
       "      <td>Crime,Drama,Thriller</td>\n",
       "      <td>7.0</td>\n",
       "      <td>1016</td>\n",
       "    </tr>\n",
       "    <tr>\n",
       "      <th>3014</th>\n",
       "      <td>The Quake</td>\n",
       "      <td>Magn.</td>\n",
       "      <td>6200.0</td>\n",
       "      <td>18700000.0</td>\n",
       "      <td>2018</td>\n",
       "      <td>tt6523720</td>\n",
       "      <td>Skjelvet</td>\n",
       "      <td>2018</td>\n",
       "      <td>106.0</td>\n",
       "      <td>Action,Drama,Thriller</td>\n",
       "      <td>6.2</td>\n",
       "      <td>5270</td>\n",
       "    </tr>\n",
       "    <tr>\n",
       "      <th>3015</th>\n",
       "      <td>An Actor Prepares</td>\n",
       "      <td>Grav.</td>\n",
       "      <td>1700.0</td>\n",
       "      <td>18700000.0</td>\n",
       "      <td>2018</td>\n",
       "      <td>tt5718046</td>\n",
       "      <td>An Actor Prepares</td>\n",
       "      <td>2018</td>\n",
       "      <td>97.0</td>\n",
       "      <td>Comedy</td>\n",
       "      <td>5.0</td>\n",
       "      <td>388</td>\n",
       "    </tr>\n",
       "  </tbody>\n",
       "</table>\n",
       "<p>3016 rows × 12 columns</p>\n",
       "</div>"
      ],
      "text/plain": [
       "                   primary_title  studio  domestic_gross  foreign_gross  year  \\\n",
       "0                    Toy Story 3      BV     415000000.0    652000000.0  2010   \n",
       "1                      Inception      WB     292600000.0    535700000.0  2010   \n",
       "2            Shrek Forever After    P/DW     238700000.0    513900000.0  2010   \n",
       "3     The Twilight Saga: Eclipse    Sum.     300500000.0    398000000.0  2010   \n",
       "4                     Iron Man 2    Par.     312400000.0    311500000.0  2010   \n",
       "...                          ...     ...             ...            ...   ...   \n",
       "3011                    Souvenir  Strand         11400.0     18700000.0  2018   \n",
       "3012                    Souvenir  Strand         11400.0     18700000.0  2018   \n",
       "3013         Beauty and the Dogs   Osci.          8900.0     18700000.0  2018   \n",
       "3014                   The Quake   Magn.          6200.0     18700000.0  2018   \n",
       "3015           An Actor Prepares   Grav.          1700.0     18700000.0  2018   \n",
       "\n",
       "         tconst              original_title  start_year  runtime_minutes  \\\n",
       "0     tt0435761                 Toy Story 3        2010            103.0   \n",
       "1     tt1375666                   Inception        2010            148.0   \n",
       "2     tt0892791         Shrek Forever After        2010             93.0   \n",
       "3     tt1325004  The Twilight Saga: Eclipse        2010            124.0   \n",
       "4     tt1228705                  Iron Man 2        2010            124.0   \n",
       "...         ...                         ...         ...              ...   \n",
       "3011  tt2387692                    Souvenir        2016             90.0   \n",
       "3012  tt2389092                    Souvenir        2014             86.0   \n",
       "3013  tt6776572              Aala Kaf Ifrit        2017            100.0   \n",
       "3014  tt6523720                    Skjelvet        2018            106.0   \n",
       "3015  tt5718046           An Actor Prepares        2018             97.0   \n",
       "\n",
       "                          genres  averagerating  numvotes  \n",
       "0     Adventure,Animation,Comedy            8.3    682218  \n",
       "1        Action,Adventure,Sci-Fi            8.8   1841066  \n",
       "2     Adventure,Animation,Comedy            6.3    167532  \n",
       "3        Adventure,Drama,Fantasy            5.0    211733  \n",
       "4        Action,Adventure,Sci-Fi            7.0    657690  \n",
       "...                          ...            ...       ...  \n",
       "3011         Drama,Music,Romance            6.0       823  \n",
       "3012              Comedy,Romance            5.9         9  \n",
       "3013        Crime,Drama,Thriller            7.0      1016  \n",
       "3014       Action,Drama,Thriller            6.2      5270  \n",
       "3015                      Comedy            5.0       388  \n",
       "\n",
       "[3016 rows x 12 columns]"
      ]
     },
     "execution_count": 455,
     "metadata": {},
     "output_type": "execute_result"
    }
   ],
   "source": [
    "full_movie_df"
   ]
  },
  {
   "cell_type": "markdown",
   "metadata": {},
   "source": [
    "### Observations\n",
    "\n",
    "The three data sets have been joined with a inner join so that only the records that are similar in the three datasets are merged into the full_movie_dataset.\n",
    "\n",
    "The datasets have 3,016 records and 12 columns from the merged datasets.\n",
    "\n",
    "The data types of the merge dataframe are in the correct classification"
   ]
  },
  {
   "cell_type": "markdown",
   "metadata": {},
   "source": [
    "## 2.4 DATA VISUALIZATION"
   ]
  },
  {
   "cell_type": "code",
   "execution_count": 456,
   "metadata": {},
   "outputs": [
    {
     "ename": "SyntaxError",
     "evalue": "invalid syntax (<ipython-input-456-b5797b2b6478>, line 1)",
     "output_type": "error",
     "traceback": [
      "\u001b[1;36m  File \u001b[1;32m\"<ipython-input-456-b5797b2b6478>\"\u001b[1;36m, line \u001b[1;32m1\u001b[0m\n\u001b[1;33m    1. Determine the most popular genre of films\u001b[0m\n\u001b[1;37m       ^\u001b[0m\n\u001b[1;31mSyntaxError\u001b[0m\u001b[1;31m:\u001b[0m invalid syntax\n"
     ]
    }
   ],
   "source": [
    "1. Determine the most popular genre of films\n",
    "2. Determine the most profitable genres of films\n",
    "3. Establish the relationship between movie ratings and profitability\n",
    "4. What is the relationship between domestic and foreign ratings of a movie and its ratings.\n",
    "5. Which studio was most profitable and what genre was produced"
   ]
  },
  {
   "cell_type": "markdown",
   "metadata": {},
   "source": [
    "## Determine the most popular genre of films"
   ]
  },
  {
   "cell_type": "code",
   "execution_count": 463,
   "metadata": {
    "scrolled": true
   },
   "outputs": [
    {
     "data": {
      "image/png": "[encoded data removed]",
      "text/plain": [
       "<Figure size 864x360 with 1 Axes>"
      ]
     },
     "metadata": {
      "needs_background": "light"
     },
     "output_type": "display_data"
    }
   ],
   "source": [
    "# Set up plot\n",
    "fig, ax = plt.subplots(figsize=(12,5))\n",
    "\n",
    "# Plot Genre vs votes\n",
    "#ax.scatter(df[\"Age\"], df[\"SalePrice\"], alpha=0.3, color=\"green\")\n",
    "ax.scatter(full_movie_df[\"genres\"], full_movie_df[\"numvotes\"], alpha=0.3, color=\"blue\")\n",
    "ax.set_title(\"Genre vs Popularity\")\n",
    "ax.set_xlabel(\"genres\")\n",
    "ax.set_ylabel(\"Popularity\");"
   ]
  },
  {
   "cell_type": "markdown",
   "metadata": {},
   "source": [
    "The top genres are the most popular and received the most review. As shown from the above diagram.\n",
    "\n",
    "There are a total of 3,016 films but 10 genres of these films received over 40% of total votes cast"
   ]
  },
  {
   "cell_type": "code",
   "execution_count": 464,
   "metadata": {},
   "outputs": [],
   "source": [
    "# Determine the most profitable genres of films"
   ]
  },
  {
   "cell_type": "code",
   "execution_count": null,
   "metadata": {},
   "outputs": [],
   "source": []
  },
  {
   "cell_type": "code",
   "execution_count": null,
   "metadata": {},
   "outputs": [],
   "source": [
    "#Establish the relationship between movie ratings and profitability"
   ]
  },
  {
   "cell_type": "code",
   "execution_count": null,
   "metadata": {},
   "outputs": [],
   "source": []
  },
  {
   "cell_type": "code",
   "execution_count": null,
   "metadata": {},
   "outputs": [],
   "source": [
    "#What is the relationship between domestic and foreign ratings of a movie and its ratings."
   ]
  },
  {
   "cell_type": "code",
   "execution_count": null,
   "metadata": {},
   "outputs": [],
   "source": []
  },
  {
   "cell_type": "code",
   "execution_count": null,
   "metadata": {},
   "outputs": [],
   "source": [
    "#Which studio was most profitable and what genre was produced"
   ]
  },
  {
   "cell_type": "code",
   "execution_count": null,
   "metadata": {},
   "outputs": [],
   "source": []
  },
  {
   "cell_type": "markdown",
   "metadata": {},
   "source": [
    "## 2.5 CONCLUSION\n",
    "   "
   ]
  },
  {
   "cell_type": "code",
   "execution_count": null,
   "metadata": {},
   "outputs": [],
   "source": []
  },
  {
   "cell_type": "markdown",
   "metadata": {},
   "source": [
    " ## 2.6 Recommendations"
   ]
  },
  {
   "cell_type": "code",
   "execution_count": null,
   "metadata": {},
   "outputs": [],
   "source": []
  },
  {
   "cell_type": "code",
   "execution_count": null,
   "metadata": {},
   "outputs": [],
   "source": []
  },
  {
   "cell_type": "code",
   "execution_count": null,
   "metadata": {},
   "outputs": [],
   "source": []
  },
  {
   "cell_type": "code",
   "execution_count": null,
   "metadata": {},
   "outputs": [],
   "source": []
  },
  {
   "cell_type": "code",
   "execution_count": null,
   "metadata": {},
   "outputs": [],
   "source": []
  },
  {
   "cell_type": "code",
   "execution_count": null,
   "metadata": {},
   "outputs": [],
   "source": []
  },
  {
   "cell_type": "code",
   "execution_count": null,
   "metadata": {},
   "outputs": [],
   "source": []
  },
  {
   "cell_type": "code",
   "execution_count": null,
   "metadata": {},
   "outputs": [],
   "source": []
  },
  {
   "cell_type": "code",
   "execution_count": null,
   "metadata": {},
   "outputs": [],
   "source": []
  },
  {
   "cell_type": "code",
   "execution_count": null,
   "metadata": {},
   "outputs": [],
   "source": []
  },
  {
   "cell_type": "code",
   "execution_count": null,
   "metadata": {},
   "outputs": [],
   "source": []
  }
 ],
 "metadata": {
  "kernelspec": {
   "display_name": "Python 3",
   "language": "python",
   "name": "python3"
  },
  "language_info": {
   "codemirror_mode": {
    "name": "ipython",
    "version": 3
   },
   "file_extension": ".py",
   "mimetype": "text/x-python",
   "name": "python",
   "nbconvert_exporter": "python",
   "pygments_lexer": "ipython3",
   "version": "3.8.5"
  }
 },
 "nbformat": 4,
 "nbformat_minor": 4
}
